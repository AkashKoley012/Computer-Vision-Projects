{
  "cells": [
    {
      "cell_type": "markdown",
      "metadata": {
        "id": "view-in-github",
        "colab_type": "text"
      },
      "source": [
        "<a href=\"https://colab.research.google.com/github/AkashKoley012/Computer-Vision-Projects/blob/main/UTKFace.ipynb\" target=\"_parent\"><img src=\"https://colab.research.google.com/assets/colab-badge.svg\" alt=\"Open In Colab\"/></a>"
      ]
    },
    {
      "cell_type": "code",
      "execution_count": 1,
      "id": "b36a5666-900e-4acb-b9a4-5739b02cb85b",
      "metadata": {
        "id": "b36a5666-900e-4acb-b9a4-5739b02cb85b",
        "outputId": "d184a5c8-67ff-4f9e-d6d8-f1f80eb7bd72",
        "colab": {
          "base_uri": "https://localhost:8080/"
        }
      },
      "outputs": [
        {
          "output_type": "stream",
          "name": "stdout",
          "text": [
            "Warning: Looks like you're using an outdated API Version, please consider updating (server 1.7.4.2 / client 1.6.17)\n",
            "Dataset URL: https://www.kaggle.com/datasets/jangedoo/utkface-new\n",
            "License(s): copyright-authors\n",
            "Downloading utkface-new.zip to /content\n",
            " 99% 329M/331M [00:15<00:00, 21.7MB/s]\n",
            "100% 331M/331M [00:15<00:00, 22.2MB/s]\n"
          ]
        }
      ],
      "source": [
        "!kaggle datasets download -d jangedoo/utkface-new"
      ]
    },
    {
      "cell_type": "code",
      "source": [
        "import zipfile\n",
        "with zipfile.ZipFile('utkface-new.zip', 'r') as zip_ref:\n",
        "    zip_ref.extractall('utkface')"
      ],
      "metadata": {
        "id": "cRM0L6YK5fwC"
      },
      "id": "cRM0L6YK5fwC",
      "execution_count": 2,
      "outputs": []
    },
    {
      "cell_type": "code",
      "source": [
        "import os\n",
        "import cv2\n",
        "import pandas as pd\n",
        "import numpy as np\n",
        "from tqdm import tqdm\n",
        "import matplotlib.pyplot as plt\n",
        "\n",
        "import torch\n",
        "import torch.nn as nn\n",
        "from PIL import Image\n",
        "import torch.optim as optim\n",
        "import torchvision.transforms as transforms\n",
        "import torchvision.models as models\n",
        "from torch.utils.data import Dataset, DataLoader"
      ],
      "metadata": {
        "id": "vMvyr3Ma5lAN"
      },
      "id": "vMvyr3Ma5lAN",
      "execution_count": 3,
      "outputs": []
    },
    {
      "cell_type": "code",
      "source": [
        "os.remove('utkface-new.zip')"
      ],
      "metadata": {
        "id": "FoHdy9xa51Kh"
      },
      "id": "FoHdy9xa51Kh",
      "execution_count": 4,
      "outputs": []
    },
    {
      "cell_type": "code",
      "source": [
        "images = []\n",
        "ages = []\n",
        "genders = []\n",
        "ethnics = []\n",
        "\n",
        "for file in tqdm(os.listdir('/content/utkface/UTKFace')):\n",
        "  # Split the filename by underscore and check if it has at least 3 parts\n",
        "  parts = file.split('_')\n",
        "  if len(parts) > 3:\n",
        "    try:\n",
        "      img = cv2.imread('/content/utkface/UTKFace/' + file)\n",
        "      img = cv2.cvtColor(img, cv2.COLOR_BGR2RGB)\n",
        "      images.append(img)\n",
        "\n",
        "      age, gender, ethnicity = parts[:3]\n",
        "      ages.append(int(age))\n",
        "      genders.append(int(gender))\n",
        "      ethnics.append(int(ethnicity))\n",
        "    except ValueError:\n",
        "      print(f\"Skipping file with unexpected format: {file}\")\n",
        "  else:\n",
        "    print(f\"Skipping file with unexpected format: {file}\")"
      ],
      "metadata": {
        "id": "aP36_t1959E_",
        "outputId": "fa6a2d9d-4616-49c1-c74e-8e243a0d9cae",
        "colab": {
          "base_uri": "https://localhost:8080/"
        }
      },
      "id": "aP36_t1959E_",
      "execution_count": 5,
      "outputs": [
        {
          "output_type": "stream",
          "name": "stderr",
          "text": [
            " 13%|█▎        | 3146/23708 [00:01<00:06, 2977.44it/s]"
          ]
        },
        {
          "output_type": "stream",
          "name": "stdout",
          "text": [
            "Skipping file with unexpected format: 61_1_20170109150557335.jpg.chip.jpg\n"
          ]
        },
        {
          "output_type": "stream",
          "name": "stderr",
          "text": [
            " 92%|█████████▏| 21840/23708 [00:07<00:00, 3311.56it/s]"
          ]
        },
        {
          "output_type": "stream",
          "name": "stdout",
          "text": [
            "Skipping file with unexpected format: 39_1_20170116174525125.jpg.chip.jpg\n"
          ]
        },
        {
          "output_type": "stream",
          "name": "stderr",
          "text": [
            "100%|██████████| 23708/23708 [00:08<00:00, 2806.10it/s]"
          ]
        },
        {
          "output_type": "stream",
          "name": "stdout",
          "text": [
            "Skipping file with unexpected format: 61_1_20170109142408075.jpg.chip.jpg\n"
          ]
        },
        {
          "output_type": "stream",
          "name": "stderr",
          "text": [
            "\n"
          ]
        }
      ]
    },
    {
      "cell_type": "code",
      "source": [
        "print(len(images), len(ages), len(genders), len(ethnics))"
      ],
      "metadata": {
        "id": "p--4uCXJ9_Kd",
        "outputId": "a46b3345-4ef0-4dc1-8ad6-029b7dbbb04a",
        "colab": {
          "base_uri": "https://localhost:8080/"
        }
      },
      "id": "p--4uCXJ9_Kd",
      "execution_count": 6,
      "outputs": [
        {
          "output_type": "stream",
          "name": "stdout",
          "text": [
            "23705 23705 23705 23705\n"
          ]
        }
      ]
    },
    {
      "cell_type": "code",
      "source": [
        "df = pd.DataFrame({'image': images, 'age': ages, 'gender': genders, 'ethnicity': ethnics})"
      ],
      "metadata": {
        "id": "5dnISkL97w3G"
      },
      "id": "5dnISkL97w3G",
      "execution_count": 7,
      "outputs": []
    },
    {
      "cell_type": "code",
      "source": [
        "df.shape"
      ],
      "metadata": {
        "id": "N5TFpiR7-7S5",
        "outputId": "ecd22c8d-68d7-4d97-b99d-6ab2e984dfdf",
        "colab": {
          "base_uri": "https://localhost:8080/"
        }
      },
      "id": "N5TFpiR7-7S5",
      "execution_count": 8,
      "outputs": [
        {
          "output_type": "execute_result",
          "data": {
            "text/plain": [
              "(23705, 4)"
            ]
          },
          "metadata": {},
          "execution_count": 8
        }
      ]
    },
    {
      "cell_type": "code",
      "source": [
        "split = int(len(df) * 0.8)\n",
        "train_df = df[:split]\n",
        "test_df = df[split:]"
      ],
      "metadata": {
        "id": "0vuIi7h0_TAk"
      },
      "id": "0vuIi7h0_TAk",
      "execution_count": 9,
      "outputs": []
    },
    {
      "cell_type": "markdown",
      "source": [
        "# Dataset & DataLoader"
      ],
      "metadata": {
        "id": "RtAeSWcclATW"
      },
      "id": "RtAeSWcclATW"
    },
    {
      "cell_type": "code",
      "source": [
        "class UTKFaceDataset(Dataset):\n",
        "  def __init__(self, df, transform=None):\n",
        "    self.df = df\n",
        "    self.transform = transform\n",
        "  def __len__(self):\n",
        "    return len(self.df)\n",
        "  def __getitem__(self, idx):\n",
        "    image = self.df.iloc[idx]['image']\n",
        "    age = self.df.iloc[idx]['age']\n",
        "    gender = self.df.iloc[idx]['gender']\n",
        "    ethnicity = self.df.iloc[idx]['ethnicity']\n",
        "\n",
        "    # Convert the NumPy array to a PIL Image before applying transforms\n",
        "    image = Image.fromarray(image)\n",
        "\n",
        "    if self.transform:\n",
        "      image = self.transform(image)\n",
        "\n",
        "    age = torch.tensor(age, dtype=torch.float32)\n",
        "    gender = torch.tensor(gender, dtype=torch.float32)\n",
        "    ethnicity = torch.tensor(ethnicity, dtype=torch.long)\n",
        "    return image, age, gender, ethnicity"
      ],
      "metadata": {
        "id": "dlEqcnFdBgzr"
      },
      "id": "dlEqcnFdBgzr",
      "execution_count": 10,
      "outputs": []
    },
    {
      "cell_type": "code",
      "source": [
        "transform = transforms.Compose([\n",
        "    transforms.Resize((224, 224)),\n",
        "    transforms.ToTensor(),\n",
        "    transforms.Normalize(mean=[0.485, 0.456, 0.406], std=[0.229, 0.224, 0.225])\n",
        "])"
      ],
      "metadata": {
        "id": "FtvemmzNkjjQ"
      },
      "id": "FtvemmzNkjjQ",
      "execution_count": 11,
      "outputs": []
    },
    {
      "cell_type": "code",
      "source": [
        "train_dataset = UTKFaceDataset(train_df, transform=transform)\n",
        "train_dataloader = DataLoader(train_dataset, batch_size=64, shuffle=True)\n",
        "\n",
        "test_dataset = UTKFaceDataset(test_df, transform=transform)\n",
        "test_dataloader = DataLoader(test_dataset, batch_size=64, shuffle=False)"
      ],
      "metadata": {
        "id": "2HwufwBvk2hk"
      },
      "id": "2HwufwBvk2hk",
      "execution_count": 12,
      "outputs": []
    },
    {
      "cell_type": "code",
      "source": [
        "for images, age_labels, gender_labels, ethnicity_labels in train_dataloader:\n",
        "  print(images.shape, age_labels.shape, gender_labels.shape, ethnicity_labels.shape)\n",
        "  break"
      ],
      "metadata": {
        "id": "PTuhL_aguwTe",
        "outputId": "240ed87c-b491-499a-b2b4-2cffdda4ce0d",
        "colab": {
          "base_uri": "https://localhost:8080/"
        }
      },
      "id": "PTuhL_aguwTe",
      "execution_count": 13,
      "outputs": [
        {
          "output_type": "stream",
          "name": "stdout",
          "text": [
            "torch.Size([64, 3, 224, 224]) torch.Size([64]) torch.Size([64]) torch.Size([64])\n"
          ]
        }
      ]
    },
    {
      "cell_type": "code",
      "source": [
        "for images, age_labels, gender_labels, ethnicity_labels in test_dataloader:\n",
        "  print(images)\n",
        "  break"
      ],
      "metadata": {
        "collapsed": true,
        "id": "5hCKiYGswJD-",
        "outputId": "1b4547f0-581f-4d74-a72e-b017ad3695a5",
        "colab": {
          "base_uri": "https://localhost:8080/"
        }
      },
      "id": "5hCKiYGswJD-",
      "execution_count": 14,
      "outputs": [
        {
          "output_type": "stream",
          "name": "stdout",
          "text": [
            "tensor([[[[ 0.8447,  0.7248,  0.5707,  ..., -1.5528, -1.5357, -1.5185],\n",
            "          [ 0.6734,  0.6049,  0.5193,  ..., -1.5528, -1.5357, -1.5357],\n",
            "          [ 0.3309,  0.2796,  0.2453,  ..., -1.5528, -1.5357, -1.5357],\n",
            "          ...,\n",
            "          [ 0.6906,  0.7077,  0.7248,  ...,  0.2796,  0.2967,  0.2967],\n",
            "          [ 0.6906,  0.7077,  0.7248,  ...,  0.2796,  0.2796,  0.2796],\n",
            "          [ 0.7077,  0.7077,  0.7248,  ...,  0.2624,  0.2796,  0.2796]],\n",
            "\n",
            "         [[ 0.1176, -0.0049, -0.1625,  ..., -1.6856, -1.6506, -1.5980],\n",
            "          [-0.0574, -0.1275, -0.2150,  ..., -1.6856, -1.6681, -1.6155],\n",
            "          [-0.3725, -0.4251, -0.4776,  ..., -1.6856, -1.6681, -1.6155],\n",
            "          ...,\n",
            "          [ 0.3803,  0.3978,  0.4153,  ..., -0.6176, -0.6001, -0.6001],\n",
            "          [ 0.3803,  0.3978,  0.4153,  ..., -0.6176, -0.6176, -0.6176],\n",
            "          [ 0.3978,  0.3978,  0.4153,  ..., -0.6352, -0.6176, -0.6176]],\n",
            "\n",
            "         [[-0.0615, -0.1835, -0.3404,  ..., -1.6127, -1.5779, -1.5256],\n",
            "          [-0.2358, -0.3055, -0.3927,  ..., -1.6127, -1.5779, -1.5430],\n",
            "          [-0.5321, -0.5844, -0.6367,  ..., -1.6127, -1.5779, -1.5430],\n",
            "          ...,\n",
            "          [ 0.1651,  0.1825,  0.1999,  ..., -0.9853, -0.9678, -0.9678],\n",
            "          [ 0.1651,  0.1825,  0.1999,  ..., -0.9853, -0.9853, -0.9853],\n",
            "          [ 0.1825,  0.1825,  0.1999,  ..., -1.0027, -0.9853, -0.9853]]],\n",
            "\n",
            "\n",
            "        [[[-1.8610, -1.8782, -1.8782,  ..., -1.6555, -1.6384, -1.5870],\n",
            "          [-1.8610, -1.8782, -1.8782,  ..., -1.6555, -1.6384, -1.6042],\n",
            "          [-1.8782, -1.8782, -1.8782,  ..., -1.6727, -1.6555, -1.6213],\n",
            "          ...,\n",
            "          [-1.8782, -1.8953, -1.9124,  ..., -1.7240, -1.7240, -1.7240],\n",
            "          [-1.8782, -1.8953, -1.9124,  ..., -1.7240, -1.7240, -1.7240],\n",
            "          [-1.8782, -1.8953, -1.9124,  ..., -1.7240, -1.7240, -1.7240]],\n",
            "\n",
            "         [[-1.7556, -1.7731, -1.7731,  ..., -1.8256, -1.8256, -1.7731],\n",
            "          [-1.7556, -1.7731, -1.7731,  ..., -1.8256, -1.8256, -1.7906],\n",
            "          [-1.7731, -1.7731, -1.7731,  ..., -1.8431, -1.8431, -1.8081],\n",
            "          ...,\n",
            "          [-1.7906, -1.8081, -1.8256,  ..., -1.7206, -1.7206, -1.7206],\n",
            "          [-1.7906, -1.8081, -1.8256,  ..., -1.7206, -1.7206, -1.7206],\n",
            "          [-1.7906, -1.8081, -1.8256,  ..., -1.7206, -1.7206, -1.7206]],\n",
            "\n",
            "         [[-1.6302, -1.6476, -1.6476,  ..., -1.6127, -1.5953, -1.5430],\n",
            "          [-1.6302, -1.6476, -1.6476,  ..., -1.6127, -1.5953, -1.5604],\n",
            "          [-1.6476, -1.6476, -1.6476,  ..., -1.6302, -1.6127, -1.5779],\n",
            "          ...,\n",
            "          [-1.5604, -1.5779, -1.5953,  ..., -1.5604, -1.5604, -1.5604],\n",
            "          [-1.5604, -1.5779, -1.5953,  ..., -1.5604, -1.5604, -1.5604],\n",
            "          [-1.5604, -1.5779, -1.5953,  ..., -1.5604, -1.5604, -1.5604]]],\n",
            "\n",
            "\n",
            "        [[[-1.0733, -1.1247, -1.1589,  ...,  0.0569,  0.0227,  0.0056],\n",
            "          [-1.1075, -1.1589, -1.1932,  ...,  0.1083,  0.0569,  0.0398],\n",
            "          [-1.1589, -1.1932, -1.2274,  ...,  0.1426,  0.0912,  0.0569],\n",
            "          ...,\n",
            "          [-0.4739, -0.4739, -0.4739,  ..., -2.0323, -2.0152, -2.0152],\n",
            "          [-0.4739, -0.4739, -0.4739,  ..., -2.0323, -2.0152, -1.9980],\n",
            "          [-0.4739, -0.4739, -0.4739,  ..., -2.0323, -2.0152, -1.9980]],\n",
            "\n",
            "         [[-0.9678, -1.0203, -1.0553,  ...,  0.1877,  0.1527,  0.1352],\n",
            "          [-1.0028, -1.0553, -1.0903,  ...,  0.2402,  0.1877,  0.1702],\n",
            "          [-1.0553, -1.0903, -1.1253,  ...,  0.2752,  0.2227,  0.1877],\n",
            "          ...,\n",
            "          [-0.3550, -0.3550, -0.3550,  ..., -1.9482, -1.9307, -1.9307],\n",
            "          [-0.3550, -0.3550, -0.3550,  ..., -1.9482, -1.9307, -1.9132],\n",
            "          [-0.3550, -0.3550, -0.3550,  ..., -1.9482, -1.9307, -1.9132]],\n",
            "\n",
            "         [[-0.7413, -0.7936, -0.8284,  ...,  0.4091,  0.3742,  0.3568],\n",
            "          [-0.7761, -0.8284, -0.8633,  ...,  0.4614,  0.4091,  0.3916],\n",
            "          [-0.8284, -0.8633, -0.8981,  ...,  0.4962,  0.4439,  0.4091],\n",
            "          ...,\n",
            "          [-0.1312, -0.1312, -0.1312,  ..., -1.7173, -1.6999, -1.6999],\n",
            "          [-0.1312, -0.1312, -0.1312,  ..., -1.7173, -1.6999, -1.6824],\n",
            "          [-0.1312, -0.1312, -0.1312,  ..., -1.7173, -1.6999, -1.6824]]],\n",
            "\n",
            "\n",
            "        ...,\n",
            "\n",
            "\n",
            "        [[[-1.6213, -1.6213, -1.6213,  ..., -0.3712, -0.3883, -0.4226],\n",
            "          [-1.6213, -1.6213, -1.6213,  ..., -0.3712, -0.3883, -0.4226],\n",
            "          [-1.6213, -1.6213, -1.6042,  ..., -0.3883, -0.4054, -0.4226],\n",
            "          ...,\n",
            "          [-1.6213, -1.6213, -1.6213,  ..., -1.0219, -1.0219, -1.0219],\n",
            "          [-1.6213, -1.6213, -1.6213,  ..., -1.0048, -0.9877, -0.9877],\n",
            "          [-1.6213, -1.6213, -1.6213,  ..., -1.0048, -0.9877, -0.9705]],\n",
            "\n",
            "         [[-1.5630, -1.5630, -1.5630,  ..., -1.0903, -1.1078, -1.1429],\n",
            "          [-1.5630, -1.5630, -1.5630,  ..., -1.0903, -1.1078, -1.1429],\n",
            "          [-1.5630, -1.5630, -1.5630,  ..., -1.1078, -1.1253, -1.1429],\n",
            "          ...,\n",
            "          [-1.5280, -1.5280, -1.5280,  ..., -1.4755, -1.4580, -1.4580],\n",
            "          [-1.5280, -1.5280, -1.5280,  ..., -1.4755, -1.4580, -1.4580],\n",
            "          [-1.5280, -1.5280, -1.5280,  ..., -1.4755, -1.4580, -1.4405]],\n",
            "\n",
            "         [[-1.3164, -1.3164, -1.3164,  ..., -0.9330, -0.9156, -0.9504],\n",
            "          [-1.3164, -1.3164, -1.3164,  ..., -0.9330, -0.9156, -0.9504],\n",
            "          [-1.3164, -1.3164, -1.3164,  ..., -0.9504, -0.9330, -0.9504],\n",
            "          ...,\n",
            "          [-1.1247, -1.1247, -1.1247,  ..., -1.4036, -1.4036, -1.4036],\n",
            "          [-1.1247, -1.1247, -1.1247,  ..., -1.4036, -1.3861, -1.3861],\n",
            "          [-1.1247, -1.1247, -1.1247,  ..., -1.4036, -1.3861, -1.3687]]],\n",
            "\n",
            "\n",
            "        [[[ 0.1083,  0.1083,  0.1083,  ...,  1.2214,  1.2043,  1.2043],\n",
            "          [ 0.0912,  0.0912,  0.0912,  ...,  1.2214,  1.2043,  1.2043],\n",
            "          [ 0.0912,  0.0912,  0.0912,  ...,  1.2214,  1.2043,  1.2043],\n",
            "          ...,\n",
            "          [-0.5253, -0.4911, -0.4739,  ...,  0.9817,  0.9817,  0.9817],\n",
            "          [-0.5938, -0.5082, -0.4568,  ...,  0.9988,  0.9988,  0.9988],\n",
            "          [-0.6109, -0.5424, -0.4568,  ...,  1.0331,  1.0331,  1.0331]],\n",
            "\n",
            "         [[-0.2325, -0.2325, -0.2325,  ...,  1.5007,  1.4832,  1.4832],\n",
            "          [-0.2500, -0.2500, -0.2500,  ...,  1.5007,  1.4832,  1.4832],\n",
            "          [-0.2500, -0.2500, -0.2500,  ...,  1.5007,  1.4832,  1.4832],\n",
            "          ...,\n",
            "          [-0.8803, -0.8277, -0.8452,  ...,  1.4307,  1.4307,  1.4307],\n",
            "          [-0.8978, -0.8452, -0.8277,  ...,  1.4482,  1.4482,  1.4482],\n",
            "          [-0.9153, -0.8452, -0.8102,  ...,  1.4832,  1.4832,  1.4832]],\n",
            "\n",
            "         [[-0.2010, -0.2010, -0.2010,  ...,  1.1411,  1.1062,  1.1062],\n",
            "          [-0.2184, -0.2184, -0.2184,  ...,  1.1411,  1.1062,  1.1062],\n",
            "          [-0.2184, -0.2184, -0.2184,  ...,  1.1411,  1.1062,  1.1062],\n",
            "          ...,\n",
            "          [-0.8110, -0.7761, -0.7761,  ...,  0.4091,  0.4091,  0.4091],\n",
            "          [-0.8458, -0.7936, -0.7587,  ...,  0.4265,  0.4265,  0.4265],\n",
            "          [-0.8633, -0.7936, -0.7413,  ...,  0.4614,  0.4614,  0.4614]]],\n",
            "\n",
            "\n",
            "        [[[-2.1008, -2.1008, -2.1008,  ..., -0.3198, -0.3541, -0.3883],\n",
            "          [-2.1008, -2.1008, -2.1008,  ..., -0.3712, -0.4054, -0.4226],\n",
            "          [-2.1008, -2.1008, -2.1008,  ..., -0.4397, -0.4568, -0.4568],\n",
            "          ...,\n",
            "          [-2.1179, -2.1179, -2.1179,  ...,  1.4612,  1.4612,  1.4269],\n",
            "          [-2.1179, -2.1179, -2.1179,  ...,  1.4783,  1.4783,  1.4440],\n",
            "          [-2.1179, -2.1179, -2.1179,  ...,  1.4954,  1.5125,  1.4612]],\n",
            "\n",
            "         [[-1.6155, -1.6155, -1.6155,  ..., -0.6352, -0.6702, -0.7052],\n",
            "          [-1.6155, -1.6155, -1.6155,  ..., -0.6877, -0.7227, -0.7402],\n",
            "          [-1.6155, -1.6155, -1.6155,  ..., -0.7577, -0.7752, -0.7752],\n",
            "          ...,\n",
            "          [-1.5980, -1.5980, -1.5980,  ...,  1.0630,  1.0805,  1.0805],\n",
            "          [-1.5980, -1.5980, -1.5980,  ...,  1.0805,  1.0980,  1.0980],\n",
            "          [-1.5980, -1.5980, -1.5980,  ...,  1.1155,  1.1331,  1.1155]],\n",
            "\n",
            "         [[-0.6541, -0.6541, -0.6541,  ..., -0.5321, -0.5670, -0.6018],\n",
            "          [-0.6541, -0.6541, -0.6541,  ..., -0.5844, -0.6193, -0.6367],\n",
            "          [-0.6541, -0.6541, -0.6541,  ..., -0.6541, -0.6715, -0.6715],\n",
            "          ...,\n",
            "          [-0.6541, -0.6541, -0.6541,  ...,  1.1411,  1.2108,  1.1934],\n",
            "          [-0.6541, -0.6541, -0.6541,  ...,  1.1585,  1.2282,  1.2108],\n",
            "          [-0.6541, -0.6541, -0.6541,  ...,  1.1934,  1.2631,  1.2282]]]])\n"
          ]
        }
      ]
    },
    {
      "cell_type": "markdown",
      "source": [
        "# Model use ResNet-152"
      ],
      "metadata": {
        "id": "Wabi-lkYrqld"
      },
      "id": "Wabi-lkYrqld"
    },
    {
      "cell_type": "code",
      "source": [
        "class AgeGenderEthnicityResNet(nn.Module):\n",
        "  def __init__(self):\n",
        "    super().__init__()\n",
        "    self.resnet = models.resnet152(pretrained=True)\n",
        "    self.resnet.fc = nn.Identity()\n",
        "    self.fc = nn.Linear(512, 512)\n",
        "\n",
        "    self.age_output = nn.Linear(512, 1)\n",
        "    self.gender_output = nn.Linear(512, 1)\n",
        "    self.ethnicity_output = nn.Linear(512, 5)\n",
        "\n",
        "  def forward(self, x):\n",
        "    x = self.resnet(x)\n",
        "    x = self.fc(x)\n",
        "    age = self.age_output(x)\n",
        "    gender = torch.sigmoid(self.gender_output(x))\n",
        "    ethnicity = self.ethnicity_output(x)\n",
        "    return age, gender, ethnicity\n",
        ""
      ],
      "metadata": {
        "id": "v4vfqgywljxs"
      },
      "id": "v4vfqgywljxs",
      "execution_count": 26,
      "outputs": []
    },
    {
      "cell_type": "code",
      "source": [
        "lr = 0.001\n",
        "\n",
        "# Initialize Model\n",
        "model = AgeGenderEthnicityResNet()\n",
        "device = torch.device(\"cuda\" if torch.cuda.is_available() else \"cpu\")\n",
        "model.to(device)\n",
        "\n",
        "# Loss functions\n",
        "criterion_age = nn.MSELoss()\n",
        "criterion_gender = nn.BCELoss()\n",
        "criterion_ethnicity = nn.CrossEntropyLoss()\n",
        "\n",
        "# Optimizer\n",
        "optimizer = optim.Adam(model.parameters(), lr=lr)"
      ],
      "metadata": {
        "id": "kyEvQwooruZx",
        "outputId": "73e16320-cd46-4f9d-b35d-1cc109ebfa33",
        "colab": {
          "base_uri": "https://localhost:8080/"
        }
      },
      "id": "kyEvQwooruZx",
      "execution_count": 27,
      "outputs": [
        {
          "output_type": "stream",
          "name": "stderr",
          "text": [
            "/usr/local/lib/python3.11/dist-packages/torchvision/models/_utils.py:208: UserWarning: The parameter 'pretrained' is deprecated since 0.13 and may be removed in the future, please use 'weights' instead.\n",
            "  warnings.warn(\n",
            "/usr/local/lib/python3.11/dist-packages/torchvision/models/_utils.py:223: UserWarning: Arguments other than a weight enum or `None` for 'weights' are deprecated since 0.13 and may be removed in the future. The current behavior is equivalent to passing `weights=ResNet34_Weights.IMAGENET1K_V1`. You can also use `weights=ResNet34_Weights.DEFAULT` to get the most up-to-date weights.\n",
            "  warnings.warn(msg)\n"
          ]
        }
      ]
    },
    {
      "cell_type": "code",
      "source": [
        "epochs = 10\n",
        "\n",
        "# Training Loop\n",
        "for epoch in tqdm(range(epochs)):\n",
        "    model.train()\n",
        "    running_loss = 0.0\n",
        "    for images, age_labels, gender_labels, ethnicity_labels in train_dataloader:\n",
        "        images, age_labels, gender_labels, ethnicity_labels = (\n",
        "            images.to(device),\n",
        "            age_labels.to(device),\n",
        "            gender_labels.float().unsqueeze(1).to(device),\n",
        "            ethnicity_labels.to(device)\n",
        "        )\n",
        "\n",
        "        optimizer.zero_grad()\n",
        "\n",
        "        age_preds, gender_preds, ethnicity_preds = model(images)\n",
        "        loss_age = criterion_age(age_preds, age_labels)\n",
        "        loss_gender = criterion_gender(gender_preds, gender_labels)\n",
        "        loss_ethnicity = criterion_ethnicity(ethnicity_preds, ethnicity_labels)\n",
        "\n",
        "        loss = loss_age + loss_gender + loss_ethnicity\n",
        "\n",
        "        loss.backward()\n",
        "        optimizer.step()\n",
        "        running_loss += loss.item()\n",
        "\n",
        "    print(f\"Epoch [{epoch+1}/{epochs}], Loss: {running_loss/len(train_dataloader)}\")\n",
        "\n"
      ],
      "metadata": {
        "id": "us_TbxIksMj9",
        "outputId": "231b8f0a-8774-4da5-e521-eebfdf6faaa3",
        "colab": {
          "base_uri": "https://localhost:8080/"
        }
      },
      "id": "us_TbxIksMj9",
      "execution_count": 28,
      "outputs": [
        {
          "output_type": "stream",
          "name": "stderr",
          "text": [
            "\r  0%|          | 0/10 [00:00<?, ?it/s]/usr/local/lib/python3.11/dist-packages/torch/nn/modules/loss.py:610: UserWarning: Using a target size (torch.Size([64])) that is different to the input size (torch.Size([64, 1])). This will likely lead to incorrect results due to broadcasting. Please ensure they have the same size.\n",
            "  return F.mse_loss(input, target, reduction=self.reduction)\n",
            "/usr/local/lib/python3.11/dist-packages/torch/nn/modules/loss.py:610: UserWarning: Using a target size (torch.Size([20])) that is different to the input size (torch.Size([20, 1])). This will likely lead to incorrect results due to broadcasting. Please ensure they have the same size.\n",
            "  return F.mse_loss(input, target, reduction=self.reduction)\n",
            " 10%|█         | 1/10 [02:20<21:01, 140.12s/it]"
          ]
        },
        {
          "output_type": "stream",
          "name": "stdout",
          "text": [
            "Epoch [1/10], Loss: 413.6888554120305\n"
          ]
        },
        {
          "output_type": "stream",
          "name": "stderr",
          "text": [
            "\r 20%|██        | 2/10 [04:38<18:31, 138.89s/it]"
          ]
        },
        {
          "output_type": "stream",
          "name": "stdout",
          "text": [
            "Epoch [2/10], Loss: 402.0406140671033\n"
          ]
        },
        {
          "output_type": "stream",
          "name": "stderr",
          "text": [
            "\r 30%|███       | 3/10 [06:57<16:12, 138.91s/it]"
          ]
        },
        {
          "output_type": "stream",
          "name": "stdout",
          "text": [
            "Epoch [3/10], Loss: 402.4297353827993\n"
          ]
        },
        {
          "output_type": "stream",
          "name": "stderr",
          "text": [
            "\r 40%|████      | 4/10 [09:15<13:51, 138.59s/it]"
          ]
        },
        {
          "output_type": "stream",
          "name": "stdout",
          "text": [
            "Epoch [4/10], Loss: 399.8261008728233\n"
          ]
        },
        {
          "output_type": "stream",
          "name": "stderr",
          "text": [
            "\r 50%|█████     | 5/10 [11:33<11:32, 138.45s/it]"
          ]
        },
        {
          "output_type": "stream",
          "name": "stdout",
          "text": [
            "Epoch [5/10], Loss: 401.9586088649352\n"
          ]
        },
        {
          "output_type": "stream",
          "name": "stderr",
          "text": [
            "\r 60%|██████    | 6/10 [13:51<09:13, 138.32s/it]"
          ]
        },
        {
          "output_type": "stream",
          "name": "stdout",
          "text": [
            "Epoch [6/10], Loss: 401.51743545275343\n"
          ]
        },
        {
          "output_type": "stream",
          "name": "stderr",
          "text": [
            "\r 70%|███████   | 7/10 [16:09<06:54, 138.18s/it]"
          ]
        },
        {
          "output_type": "stream",
          "name": "stdout",
          "text": [
            "Epoch [7/10], Loss: 401.75464853614267\n"
          ]
        },
        {
          "output_type": "stream",
          "name": "stderr",
          "text": [
            "\r 80%|████████  | 8/10 [18:27<04:36, 138.18s/it]"
          ]
        },
        {
          "output_type": "stream",
          "name": "stdout",
          "text": [
            "Epoch [8/10], Loss: 400.6105963710181\n"
          ]
        },
        {
          "output_type": "stream",
          "name": "stderr",
          "text": [
            "\r 90%|█████████ | 9/10 [20:45<02:18, 138.27s/it]"
          ]
        },
        {
          "output_type": "stream",
          "name": "stdout",
          "text": [
            "Epoch [9/10], Loss: 399.35990561539876\n"
          ]
        },
        {
          "output_type": "stream",
          "name": "stderr",
          "text": [
            "100%|██████████| 10/10 [23:03<00:00, 138.31s/it]"
          ]
        },
        {
          "output_type": "stream",
          "name": "stdout",
          "text": [
            "Epoch [10/10], Loss: 399.3796923602069\n"
          ]
        },
        {
          "output_type": "stream",
          "name": "stderr",
          "text": [
            "\n"
          ]
        }
      ]
    },
    {
      "cell_type": "code",
      "source": [],
      "metadata": {
        "id": "bnZNjJ1YW3ct"
      },
      "id": "bnZNjJ1YW3ct",
      "execution_count": null,
      "outputs": []
    }
  ],
  "metadata": {
    "kernelspec": {
      "display_name": "",
      "name": ""
    },
    "language_info": {
      "name": ""
    },
    "colab": {
      "provenance": [],
      "gpuType": "T4",
      "include_colab_link": true
    },
    "accelerator": "GPU"
  },
  "nbformat": 4,
  "nbformat_minor": 5
}