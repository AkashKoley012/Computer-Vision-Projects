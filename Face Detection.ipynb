{
  "cells": [
    {
      "cell_type": "markdown",
      "metadata": {
        "id": "view-in-github",
        "colab_type": "text"
      },
      "source": [
        "<a href=\"https://colab.research.google.com/github/AkashKoley012/Computer-Vision-Projects/blob/main/Face%20Detection.ipynb\" target=\"_parent\"><img src=\"https://colab.research.google.com/assets/colab-badge.svg\" alt=\"Open In Colab\"/></a>"
      ]
    },
    {
      "cell_type": "code",
      "execution_count": 1,
      "id": "b36a5666-900e-4acb-b9a4-5739b02cb85b",
      "metadata": {
        "id": "b36a5666-900e-4acb-b9a4-5739b02cb85b",
        "outputId": "f86978fa-d8d2-4daf-83a6-8258a1ae8c29",
        "colab": {
          "base_uri": "https://localhost:8080/"
        }
      },
      "outputs": [
        {
          "output_type": "stream",
          "name": "stdout",
          "text": [
            "Warning: Looks like you're using an outdated API Version, please consider updating (server 1.7.4.2 / client 1.6.17)\n",
            "Dataset URL: https://www.kaggle.com/datasets/andrewmvd/face-mask-detection\n",
            "License(s): CC0-1.0\n",
            "Downloading face-mask-detection.zip to /content\n",
            " 97% 384M/398M [00:05<00:00, 16.7MB/s]\n",
            "100% 398M/398M [00:05<00:00, 74.5MB/s]\n"
          ]
        }
      ],
      "source": [
        "!kaggle datasets download -d andrewmvd/face-mask-detection"
      ]
    },
    {
      "cell_type": "code",
      "source": [
        "import zipfile\n",
        "with zipfile.ZipFile('/content/face-mask-detection.zip', 'r') as zip_ref:\n",
        "    zip_ref.extractall('face-mask')"
      ],
      "metadata": {
        "id": "1Tz3QCfYsoz8"
      },
      "id": "1Tz3QCfYsoz8",
      "execution_count": 2,
      "outputs": []
    },
    {
      "cell_type": "code",
      "source": [
        "import os\n",
        "import pandas as pd\n",
        "import numpy as np\n",
        "import matplotlib.pyplot as plt\n",
        "\n",
        "from bs4 import BeautifulSoup\n",
        "from PIL import Image\n",
        "\n",
        "import cv2\n",
        "from tqdm import tqdm\n",
        "\n",
        "import torch\n",
        "import torch.nn as nn\n",
        "import torch.optim as optim\n",
        "import torchvision.models as models\n",
        "import torchvision.transforms as transforms\n",
        "from torch.utils.data import Dataset, DataLoader"
      ],
      "metadata": {
        "id": "LxAglMXbs9vH"
      },
      "id": "LxAglMXbs9vH",
      "execution_count": 48,
      "outputs": []
    },
    {
      "cell_type": "code",
      "source": [
        "os.remove('/content/face-mask-detection.zip')"
      ],
      "metadata": {
        "id": "s7OHn_YqtATL"
      },
      "id": "s7OHn_YqtATL",
      "execution_count": 4,
      "outputs": []
    },
    {
      "cell_type": "code",
      "source": [
        "img_path = '/content/face-mask/images/'\n",
        "loc_path = '/content/face-mask/annotations/'"
      ],
      "metadata": {
        "id": "YLnu2m0x91Q2"
      },
      "id": "YLnu2m0x91Q2",
      "execution_count": 11,
      "outputs": []
    },
    {
      "cell_type": "code",
      "source": [
        "images = []\n",
        "labels = []\n",
        "\n",
        "dic = {'without_mask': 0, 'with_mask': 1, 'mask_weared_incorrect': 2}\n",
        "\n",
        "for file in tqdm(os.listdir(img_path)):\n",
        "  img = cv2.imread(img_path + file)\n",
        "  img = cv2.cvtColor(img, cv2.COLOR_BGR2RGB)\n",
        "  images.append(img)\n",
        "\n",
        "  with open(loc_path + file.split('.')[0] + '.xml', 'r') as f:\n",
        "    xml = f.read()\n",
        "  xml = BeautifulSoup(xml, 'xml')\n",
        "  label = []\n",
        "  for obj in xml.find_all('object'):\n",
        "    name = obj.find('name').text\n",
        "    bndbox = obj.find('bndbox')\n",
        "    xmin = int(bndbox.find('xmin').text)\n",
        "    ymin = int(bndbox.find('ymin').text)\n",
        "    xmax = int(bndbox.find('xmax').text)\n",
        "    ymax = int(bndbox.find('ymax').text)\n",
        "    label.append([dic[name], xmin, ymin, xmax, ymax])\n",
        "  labels.append(label)"
      ],
      "metadata": {
        "id": "IlT89w3n9Z9Q",
        "outputId": "46c8b0f2-160e-4b5d-c824-d2a6907293ec",
        "colab": {
          "base_uri": "https://localhost:8080/"
        }
      },
      "id": "IlT89w3n9Z9Q",
      "execution_count": 42,
      "outputs": [
        {
          "output_type": "stream",
          "name": "stderr",
          "text": [
            "100%|██████████| 853/853 [00:17<00:00, 47.81it/s]\n"
          ]
        }
      ]
    },
    {
      "cell_type": "code",
      "source": [
        "images[0], labels[0]"
      ],
      "metadata": {
        "collapsed": true,
        "id": "QoSAyrnqAP03",
        "outputId": "f6e46400-0507-4bdd-ee7d-9967f54f3d2a",
        "colab": {
          "base_uri": "https://localhost:8080/"
        }
      },
      "id": "QoSAyrnqAP03",
      "execution_count": 43,
      "outputs": [
        {
          "output_type": "execute_result",
          "data": {
            "text/plain": [
              "(array([[[184, 180, 172],\n",
              "         [183, 180, 172],\n",
              "         [183, 179, 171],\n",
              "         ...,\n",
              "         [189, 168, 152],\n",
              "         [179, 157, 137],\n",
              "         [182, 161, 138]],\n",
              " \n",
              "        [[184, 180, 172],\n",
              "         [183, 180, 171],\n",
              "         [183, 179, 170],\n",
              "         ...,\n",
              "         [186, 163, 146],\n",
              "         [178, 154, 132],\n",
              "         [181, 158, 134]],\n",
              " \n",
              "        [[184, 180, 170],\n",
              "         [184, 180, 170],\n",
              "         [183, 179, 169],\n",
              "         ...,\n",
              "         [180, 151, 128],\n",
              "         [177, 149, 122],\n",
              "         [180, 152, 124]],\n",
              " \n",
              "        ...,\n",
              " \n",
              "        [[ 32,  32,  34],\n",
              "         [ 33,  33,  35],\n",
              "         [ 35,  35,  37],\n",
              "         ...,\n",
              "         [ 90,  89,  94],\n",
              "         [ 93,  91,  97],\n",
              "         [ 99,  96, 103]],\n",
              " \n",
              "        [[ 34,  34,  36],\n",
              "         [ 30,  30,  32],\n",
              "         [ 34,  34,  36],\n",
              "         ...,\n",
              "         [ 92,  92,  97],\n",
              "         [ 89,  87,  93],\n",
              "         [ 92,  90,  96]],\n",
              " \n",
              "        [[ 29,  29,  31],\n",
              "         [ 38,  38,  39],\n",
              "         [ 35,  35,  37],\n",
              "         ...,\n",
              "         [ 96,  95, 101],\n",
              "         [ 91,  89,  95],\n",
              "         [ 92,  90,  96]]], dtype=uint8),\n",
              " [[0, 101, 73, 108, 82],\n",
              "  [1, 123, 67, 143, 83],\n",
              "  [0, 178, 64, 185, 72],\n",
              "  [1, 167, 114, 183, 128],\n",
              "  [1, 225, 60, 240, 76],\n",
              "  [1, 261, 65, 277, 82],\n",
              "  [0, 282, 75, 295, 92],\n",
              "  [1, 330, 20, 362, 56]])"
            ]
          },
          "metadata": {},
          "execution_count": 43
        }
      ]
    },
    {
      "cell_type": "code",
      "source": [
        "df = pd.DataFrame({'image': images, 'label': labels})"
      ],
      "metadata": {
        "id": "lFPslSbRAWCz"
      },
      "id": "lFPslSbRAWCz",
      "execution_count": 44,
      "outputs": []
    },
    {
      "cell_type": "code",
      "source": [
        "df.iloc[0]"
      ],
      "metadata": {
        "id": "MZyNbiSCD7gd",
        "outputId": "7b3c0e18-4c7c-4198-fb0a-7cd96133faa2",
        "colab": {
          "base_uri": "https://localhost:8080/",
          "height": 147
        }
      },
      "id": "MZyNbiSCD7gd",
      "execution_count": 47,
      "outputs": [
        {
          "output_type": "execute_result",
          "data": {
            "text/plain": [
              "image    [[[184, 180, 172], [183, 180, 172], [183, 179,...\n",
              "label    [[0, 101, 73, 108, 82], [1, 123, 67, 143, 83],...\n",
              "Name: 0, dtype: object"
            ],
            "text/html": [
              "<div>\n",
              "<style scoped>\n",
              "    .dataframe tbody tr th:only-of-type {\n",
              "        vertical-align: middle;\n",
              "    }\n",
              "\n",
              "    .dataframe tbody tr th {\n",
              "        vertical-align: top;\n",
              "    }\n",
              "\n",
              "    .dataframe thead th {\n",
              "        text-align: right;\n",
              "    }\n",
              "</style>\n",
              "<table border=\"1\" class=\"dataframe\">\n",
              "  <thead>\n",
              "    <tr style=\"text-align: right;\">\n",
              "      <th></th>\n",
              "      <th>0</th>\n",
              "    </tr>\n",
              "  </thead>\n",
              "  <tbody>\n",
              "    <tr>\n",
              "      <th>image</th>\n",
              "      <td>[[[184, 180, 172], [183, 180, 172], [183, 179,...</td>\n",
              "    </tr>\n",
              "    <tr>\n",
              "      <th>label</th>\n",
              "      <td>[[0, 101, 73, 108, 82], [1, 123, 67, 143, 83],...</td>\n",
              "    </tr>\n",
              "  </tbody>\n",
              "</table>\n",
              "</div><br><label><b>dtype:</b> object</label>"
            ]
          },
          "metadata": {},
          "execution_count": 47
        }
      ]
    },
    {
      "cell_type": "code",
      "source": [
        "# dic = {'other':0}\n",
        "\n",
        "# for i in range(len(df['label'])):\n",
        "#   for j in range(len(df['label'][i])):\n",
        "#     if df['label'][i][j][0] not in dic:\n",
        "#       dic[df['label'][i][j][0]] = 1\n",
        "#     else:\n",
        "#       dic[df['label'][i][j][0]] += 1\n",
        "\n",
        "#print(dic) #{'other': 0, 'without_mask': 717, 'with_mask': 3232, 'mask_weared_incorrect': 123}"
      ],
      "metadata": {
        "id": "atRx9UZyAdiQ",
        "outputId": "5262b1f9-95ff-40b3-cb04-7c55ce424545",
        "colab": {
          "base_uri": "https://localhost:8080/"
        }
      },
      "id": "atRx9UZyAdiQ",
      "execution_count": 41,
      "outputs": [
        {
          "output_type": "stream",
          "name": "stdout",
          "text": [
            "{'other': 0, 'without_mask': 717, 'with_mask': 3232, 'mask_weared_incorrect': 123}\n"
          ]
        }
      ]
    },
    {
      "cell_type": "code",
      "source": [
        "split = int(0.8*(len(df)))\n",
        "train_df = df.iloc[:int(split)]\n",
        "test_df = df.iloc[int(split):]"
      ],
      "metadata": {
        "id": "QZrLttrqJdyl"
      },
      "id": "QZrLttrqJdyl",
      "execution_count": null,
      "outputs": []
    },
    {
      "cell_type": "markdown",
      "source": [
        "# Dataset & DataLoader"
      ],
      "metadata": {
        "id": "MjmaDe1CDR-C"
      },
      "id": "MjmaDe1CDR-C"
    },
    {
      "cell_type": "code",
      "source": [
        "class FaceMaskDataset(torch.utils.data.Dataset):\n",
        "\n",
        "  def __init__(self, df, transforms=None):\n",
        "    self.df = df\n",
        "    self.transforms = transforms\n",
        "\n",
        "  def __len__(self):\n",
        "    return len(self.df)\n",
        "\n",
        "  def __getitem__(self, index):\n",
        "    image = self.df.iloc[index]['image']\n",
        "    label = self.df.iloc[index]['label']\n",
        "\n",
        "    bbox = label[1:].values.astype(\"float32\")\n",
        "\n",
        "    if self.transform:\n",
        "      image = self.transform(image)\n",
        "\n",
        "    return image, torch.tensor(bbox)"
      ],
      "metadata": {
        "id": "LX0QQz00CV3O"
      },
      "id": "LX0QQz00CV3O",
      "execution_count": null,
      "outputs": []
    },
    {
      "cell_type": "code",
      "source": [
        "transform = transforms.Compose([\n",
        "    transforms.ToPILImage(),\n",
        "    transforms.Resize(256),\n",
        "    transforms.CenterCrop(224),\n",
        "    transforms.ToTensor(),\n",
        "    transforms.Normalize(mean=[0.485, 0.456, 0.406], std=[0.229, 0.224, 0.225]),\n",
        "])"
      ],
      "metadata": {
        "id": "cgwocc5HEVx0"
      },
      "id": "cgwocc5HEVx0",
      "execution_count": null,
      "outputs": []
    },
    {
      "cell_type": "code",
      "source": [
        "train_dataset = FaceMaskDataset(train_df, transform=transform)\n",
        "train_dataloader = DataLoader(train_dataset, batch_size=64, shuffle=True)\n",
        "\n",
        "test_dataset = FaceMaskDataset(test_df, transform=transform)\n",
        "test_dataloader = DataLoader(test_dataset, batch_size=64, shuffle=False)"
      ],
      "metadata": {
        "id": "eOUWHsUHJL2n"
      },
      "id": "eOUWHsUHJL2n",
      "execution_count": null,
      "outputs": []
    }
  ],
  "metadata": {
    "kernelspec": {
      "display_name": "",
      "name": ""
    },
    "language_info": {
      "name": ""
    },
    "colab": {
      "provenance": [],
      "include_colab_link": true
    }
  },
  "nbformat": 4,
  "nbformat_minor": 5
}